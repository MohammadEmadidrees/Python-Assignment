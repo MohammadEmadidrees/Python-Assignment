{
 "cells": [
  {
   "cell_type": "code",
   "execution_count": 3,
   "id": "b6c54563",
   "metadata": {},
   "outputs": [
    {
     "name": "stdout",
     "output_type": "stream",
     "text": [
      "Twinkle, twinkle, little star, \n",
      "\tHow I wonder what you are! \n",
      "\t\tUp above the world so high, \n",
      "\t\tLike a diamond in the sky. \n",
      "Twinkle, twinkle, little star, \n",
      "\tHow I wonder what you are\n"
     ]
    }
   ],
   "source": [
    "## 1) Write a Python program to print the following string in a specific format (see the output)\n",
    "##Twinkle, twinkle, little star,\n",
    "    ##How I wonder what you are!\n",
    "            ##Up above the world so high,\n",
    "            ##Like a diamond in the sky.\n",
    "##Twinkle, twinkle, little star,\n",
    "    ##How I wonder what you are \n",
    "    \n",
    "    \n",
    "print(\"Twinkle, twinkle, little star, \\n\\tHow I wonder what you are! \\n\\t\\tUp above the world so high, \\n\\t\\tLike a diamond in the sky. \\nTwinkle, twinkle, little star, \\n\\tHow I wonder what you are\")\n"
   ]
  },
  {
   "cell_type": "code",
   "execution_count": 11,
   "id": "a5697082",
   "metadata": {},
   "outputs": [
    {
     "name": "stdout",
     "output_type": "stream",
     "text": [
      "3.8.8 (default, Apr 13 2021, 15:08:03) [MSC v.1916 64 bit (AMD64)]\n"
     ]
    }
   ],
   "source": [
    "## 2) Write a Python program to get the Python version you are using.\n",
    "import sys\n",
    "print(sys.version)"
   ]
  },
  {
   "cell_type": "code",
   "execution_count": 13,
   "id": "440f38ca",
   "metadata": {},
   "outputs": [
    {
     "name": "stdout",
     "output_type": "stream",
     "text": [
      "Current date and time : \n",
      "2021-10-21 11:20:48\n"
     ]
    }
   ],
   "source": [
    "## 3) Write a Python program to display the current date and time. \n",
    "import datetime\n",
    "EmadSys = datetime.datetime.now()\n",
    "print (\"Current date and time : \")\n",
    "print (EmadSys.strftime(\"%Y-%m-%d %H:%M:%S\"))"
   ]
  },
  {
   "cell_type": "code",
   "execution_count": 2,
   "id": "c21964c6",
   "metadata": {},
   "outputs": [
    {
     "name": "stdout",
     "output_type": "stream",
     "text": [
      "Please enter the radius of a circle:1.1\n",
      "The Area of circle is: 3.8013360000000005\n"
     ]
    }
   ],
   "source": [
    "## 4)Write a Python program which accepts the radius of a circle from the user and compute the area.\n",
    "radius= float(input(\"Please enter the radius of a circle:\"))\n",
    "area_of_circle= (3.1416*radius**2)                         ##3.1416 is pie value which is by default is 3.1416\n",
    "print(\"The Area of circle is:\",area_of_circle)"
   ]
  },
  {
   "cell_type": "code",
   "execution_count": 9,
   "id": "4e519eba",
   "metadata": {},
   "outputs": [
    {
     "name": "stdout",
     "output_type": "stream",
     "text": [
      "Please enter your first name:Emad\n",
      "Please enter your last name:Idrees\n",
      "Idrees Emad\n"
     ]
    }
   ],
   "source": [
    "## 5) Write a Python program which accepts the user's first and last name and print them in \n",
    "##    reverse order with a space between them.\n",
    "first_name= str(input(\"Please enter your first name:\"))\n",
    "last_name= str(input(\"Please enter your last name:\"))\n",
    "final= last_name + \" \" + first_name\n",
    "print(final)"
   ]
  },
  {
   "cell_type": "code",
   "execution_count": 12,
   "id": "c4173276",
   "metadata": {},
   "outputs": [
    {
     "name": "stdout",
     "output_type": "stream",
     "text": [
      "Addition\n",
      "Enter First Number:10\n",
      "Enter Second Number:20\n",
      "The addition of two numbers are: 30\n"
     ]
    }
   ],
   "source": [
    "## 6) Write a python program which takes two inputs from user and print them addition\n",
    "print(\"Addition\")\n",
    "First_num = int(input(\"Enter First Number:\"))\n",
    "Second_num = int(input(\"Enter Second Number:\"))\n",
    "result=First_num + Second_num\n",
    "print(\"The addition of two numbers are:\" , result)"
   ]
  },
  {
   "cell_type": "code",
   "execution_count": 4,
   "id": "d25346df",
   "metadata": {},
   "outputs": [
    {
     "name": "stdout",
     "output_type": "stream",
     "text": [
      "Please enter your english marks:80\n",
      "Please enter your isl marks:90\n",
      "Please enter your math marks:75\n",
      "Please enter your physics marks:85\n",
      "Please enter your urdu marks:72\n",
      "Your Grade is A+ And Your Percentage is 80.4\n"
     ]
    }
   ],
   "source": [
    "## 7) Write a program which takes 5 inputs from user for different subject’s marks, total it\n",
    "##    and generate mark sheet using grades\n",
    "eng=int(input(\"Please enter your english marks:\"))\n",
    "isl=int(input(\"Please enter your isl marks:\"))\n",
    "math=int(input(\"Please enter your math marks:\"))\n",
    "physics=int(input(\"Please enter your physics marks:\"))\n",
    "urdu=int(input(\"Please enter your urdu marks:\"))\n",
    "total_marks=500\n",
    "obtained_marks=(eng+isl+math+physics+urdu)\n",
    "percentage=(obtained_marks/total_marks)*100\n",
    "if percentage<90 and percentage >80:\n",
    "    print(\"Your Grade is A+ And Your Percentage is\",percentage)\n",
    "elif percentage< 80 and percentage >70:\n",
    "    print(\"Your Grade is A And Your Percentage is\",percentage)\n",
    "elif percentage< 70 and percentage >60:\n",
    "    print(\"Your Grade is B And Your Percentage is\",percentage)\n",
    "elif percentage< 60 and percentage >50:\n",
    "    print(\"Your Grade is C And Your Percentage is\",percentage)\n",
    "elif percentage< 50 and percentage >40:\n",
    "    print(\"Your Grade is D And Your Percentage is\",percentage)\n",
    "elif percentage< 40 and percentage >30:\n",
    "    print(\"Your Grade is E And Your Percentage is\",percentage)\n",
    "else:\n",
    "    print(\"You Are Failed\")"
   ]
  },
  {
   "cell_type": "code",
   "execution_count": 11,
   "id": "4ea2de01",
   "metadata": {},
   "outputs": [
    {
     "name": "stdout",
     "output_type": "stream",
     "text": [
      "Please enter the number you want to check if it is even or odd:7\n",
      "7 This number is odd\n"
     ]
    }
   ],
   "source": [
    "## 8) Write a program which take input from user and identify that the given number is even or odd?\n",
    "number=int(input(\"Please enter the number you want to check if it is even or odd:\"))\n",
    "if number%2==0:\n",
    "    print(number,\"This number is even\")\n",
    "else:\n",
    "    print(number,\"This number is odd\")"
   ]
  },
  {
   "cell_type": "code",
   "execution_count": 16,
   "id": "639a6159",
   "metadata": {},
   "outputs": [
    {
     "name": "stdout",
     "output_type": "stream",
     "text": [
      "The length of the list is: 8\n"
     ]
    }
   ],
   "source": [
    "## 9) Write a program which print the length of the list?\n",
    "emad_list=[\"Natus Vincere\",\"Simple\",\"electronic\",\"Bit\",\"Perfecto\",\"Boombage\",\"Blade\",\"Emad idrees\"]\n",
    "x=len(emad_list)\n",
    "print(\"The length of the list is:\",x)"
   ]
  },
  {
   "cell_type": "code",
   "execution_count": 19,
   "id": "71aa58d9",
   "metadata": {},
   "outputs": [
    {
     "name": "stdout",
     "output_type": "stream",
     "text": [
      "The Sum of all numeric values in list is: 59\n"
     ]
    }
   ],
   "source": [
    "## 10) Write a Python program to sum all the numeric items in a list?\n",
    "number_list=[2,3,4,5,10,15,20]\n",
    "print(\"The Sum of all numeric values in list is:\",sum(number_list))"
   ]
  },
  {
   "cell_type": "code",
   "execution_count": 20,
   "id": "79505e04",
   "metadata": {},
   "outputs": [
    {
     "name": "stdout",
     "output_type": "stream",
     "text": [
      "The largest number of the list is : 20\n"
     ]
    }
   ],
   "source": [
    "## 11) Write a Python program to get the largest number from a numeric list.\n",
    "number_list=[2,3,4,5,10,15,20]\n",
    "print(\"The largest number of the list is :\",max(number_list))"
   ]
  },
  {
   "cell_type": "code",
   "execution_count": 28,
   "id": "bb4ed0a9",
   "metadata": {},
   "outputs": [
    {
     "name": "stdout",
     "output_type": "stream",
     "text": [
      "15\n",
      "14\n",
      "12\n",
      "5\n",
      "8\n",
      "17\n",
      "13\n",
      "19\n"
     ]
    }
   ],
   "source": [
    "## 12) Take a list, say for example this one\n",
    "##Write a program that prints out all the elements of the list that are less than in my case i choose 20. \n",
    "last_list=[15,14,30,12,23,5,8,17,13,19]\n",
    "for i in last_list:\n",
    "    if i<20:\n",
    "        print(i)"
   ]
  }
 ],
 "metadata": {
  "kernelspec": {
   "display_name": "Python 3",
   "language": "python",
   "name": "python3"
  },
  "language_info": {
   "codemirror_mode": {
    "name": "ipython",
    "version": 3
   },
   "file_extension": ".py",
   "mimetype": "text/x-python",
   "name": "python",
   "nbconvert_exporter": "python",
   "pygments_lexer": "ipython3",
   "version": "3.8.8"
  }
 },
 "nbformat": 4,
 "nbformat_minor": 5
}
